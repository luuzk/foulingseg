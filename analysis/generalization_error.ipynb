{
 "cells": [
  {
   "cell_type": "code",
   "execution_count": null,
   "metadata": {},
   "outputs": [],
   "source": [
    "import os\n",
    "from itertools import product\n",
    "\n",
    "import numpy as np\n",
    "import pandas as pd\n",
    "\n",
    "os.chdir(\"..\")\n"
   ]
  },
  {
   "cell_type": "code",
   "execution_count": null,
   "metadata": {},
   "outputs": [],
   "source": [
    "# Load data\n",
    "DATA_DIR = \"data\"\n",
    "df_hu_a = pd.read_parquet(os.path.join(DATA_DIR, \"human_time_series_a.parquet\"))\n",
    "df_ai_a = pd.read_parquet(os.path.join(DATA_DIR, \"ai_time_series_a.parquet\"))\n",
    "df_hu_a = df_hu_a[df_ai_a.columns.to_list()] # reorder columns\n",
    "\n",
    "df_hu_c = pd.read_parquet(os.path.join(DATA_DIR, \"human_time_series_c.parquet\"))\n",
    "df_ai_c = pd.read_parquet(os.path.join(DATA_DIR, \"ai_time_series_c.parquet\"))\n",
    "df_ai_c = df_ai_c.loc[:, :, :3] # remove surface contact prediction"
   ]
  },
  {
   "cell_type": "code",
   "execution_count": null,
   "metadata": {},
   "outputs": [],
   "source": [
    "# Define metrics\n",
    "def mean_absolute_error(y_pred: pd.DataFrame, \n",
    "                        y_true: pd.DataFrame):\n",
    "    ae = (y_pred - y_true).abs()\n",
    "    mean = ae.mean(axis=0) * 100 # MAE\n",
    "    error  = ae.std(axis=0) / np.sqrt(len(ae)) * 100\n",
    "    return mean, error\n",
    "\n",
    "def mean_absolute_percentage_error(y_pred: pd.DataFrame, \n",
    "                                   y_true: pd.DataFrame):\n",
    "    ape = ((y_pred - y_true) / y_true).abs()\n",
    "    ape = ape.replace(np.inf, np.nan).fillna(0)\n",
    "    mean = ape.mean(axis=0) * 100 # MAPE\n",
    "    error = ape.std(axis=0) / np.sqrt(len(ape)) * 100\n",
    "    return mean, error"
   ]
  },
  {
   "cell_type": "markdown",
   "metadata": {},
   "source": [
    "Table 2: Generalization error"
   ]
  },
  {
   "cell_type": "code",
   "execution_count": null,
   "metadata": {},
   "outputs": [],
   "source": [
    "metrics = {\"MAE\": mean_absolute_error, \n",
    "           \"MAPE\": mean_absolute_percentage_error}\n",
    "datasets = {\"Validation\": (df_ai_a, df_hu_a), \n",
    "            \"Test\": (df_ai_c, df_hu_c)}\n",
    "\n",
    "df = pd.DataFrame(\n",
    "    index=pd.MultiIndex.from_product([metrics, datasets], \n",
    "    names=[\"Metric\", \"Dataset\"]), \n",
    "    columns=df_ai_a.columns)\n",
    "\n",
    "for metric, dataset in product(metrics.keys(), datasets.keys()):\n",
    "    mean, std = metrics[metric](*datasets[dataset])\n",
    "    df.loc[metric, dataset] = list(f\"{m:.0f} ± {s:.0f}\" for m, s in zip(mean, std))\n",
    "\n",
    "df"
   ]
  }
 ],
 "metadata": {
  "kernelspec": {
   "display_name": "Python 3.9.13 ('macro-seg')",
   "language": "python",
   "name": "python3"
  },
  "language_info": {
   "codemirror_mode": {
    "name": "ipython",
    "version": 3
   },
   "file_extension": ".py",
   "mimetype": "text/x-python",
   "name": "python",
   "nbconvert_exporter": "python",
   "pygments_lexer": "ipython3",
   "version": "3.9.13"
  },
  "orig_nbformat": 4,
  "vscode": {
   "interpreter": {
    "hash": "ea6088b8ba639ccd22ec3b52c4cd34308311464f29cddce51c26edd24c764ddb"
   }
  }
 },
 "nbformat": 4,
 "nbformat_minor": 2
}
