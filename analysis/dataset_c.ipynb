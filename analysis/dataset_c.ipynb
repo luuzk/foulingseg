{
 "cells": [
  {
   "cell_type": "code",
   "execution_count": null,
   "metadata": {},
   "outputs": [],
   "source": [
    "import os\n",
    "from glob import glob\n",
    "\n",
    "import matplotlib.pyplot as plt\n",
    "import numpy as np\n",
    "import pandas as pd\n",
    "from matplotlib.patches import Rectangle\n",
    "from PIL import Image\n",
    "\n",
    "os.chdir(\"..\")\n",
    "\n",
    "from utils import indexed_from_arr, load_colormap"
   ]
  },
  {
   "cell_type": "code",
   "execution_count": null,
   "metadata": {},
   "outputs": [],
   "source": [
    "# Load data\n",
    "CROPPED_DIR = \"data/panels_c_cropped\"\n",
    "\n",
    "df_ai = pd.read_excel(os.path.join(CROPPED_DIR, \"../ai_coverage_c.xlsx\"))\n",
    "df_hu = pd.read_excel(os.path.join(CROPPED_DIR, \"../human_coverage_c.xlsx\"))\n",
    "\n",
    "image_paths = sorted(glob(os.path.join(CROPPED_DIR, \"*.jpg\")))\n",
    "label_paths = sorted(glob(os.path.join(CROPPED_DIR, \"*.png\")))\n",
    "assert len(image_paths) == len(label_paths)\n",
    "print(len(image_paths), \"images found\")"
   ]
  },
  {
   "cell_type": "code",
   "execution_count": null,
   "metadata": {},
   "outputs": [],
   "source": [
    "# Split name to info\n",
    "df_ai[[\"Location\", \"Panel\", \"Month\"]] = df_ai[\"Name\"].str.split(\"_\", expand=True)\n",
    "df_ai[\"Panel\"] = df_ai[\"Panel\"].astype(int)\n",
    "df_ai[\"Month\"] = df_ai[\"Month\"].str.replace(\"m\", \"\").astype(int)\n",
    "\n",
    "# Clean up\n",
    "df_ai = df_ai.drop([\"Name\", \"Entropy\", \"Date\"], axis=1)\n",
    "df_ai[\"Others\"] = 0.\n",
    "df_ai = df_ai.set_index([\"Location\", \"Panel\", \"Month\"]).sort_index()\n",
    "df_ai.head()"
   ]
  },
  {
   "cell_type": "code",
   "execution_count": null,
   "metadata": {},
   "outputs": [],
   "source": [
    "# Clean up human data\n",
    "df_hu = df_hu.drop(\"Date\", axis=1)\n",
    "df_hu = df_hu.set_index([\"Location\", \"Panel\", \"Month\"]).sort_index()\n",
    "df_hu.head()"
   ]
  },
  {
   "cell_type": "code",
   "execution_count": null,
   "metadata": {},
   "outputs": [],
   "source": [
    "def occupation_mask(series, overwrite=(0, 1, 2)):\n",
    "    occupation = np.zeros_like(series[0])\n",
    "\n",
    "    for s in series:\n",
    "        ow_mask = np.isin(occupation, overwrite)\n",
    "        occupation[ow_mask] = s[ow_mask]\n",
    "\n",
    "    return occupation\n",
    "\n",
    "classes, palette = load_colormap()\n",
    "classes[\"Others\"] = classes.pop(\"empty\")"
   ]
  },
  {
   "cell_type": "code",
   "execution_count": null,
   "metadata": {},
   "outputs": [],
   "source": [
    "# Calculate direct attachments and their distributions\n",
    "for loc in (\"Anchorage\", \"Port\"):\n",
    "    for i in range(1, 6):\n",
    "        name = f\"{loc}_{i}_\"\n",
    "        series = [np.asarray(Image.open(p)) for p in label_paths if name in p]\n",
    "\n",
    "        dist = np.bincount(occupation_mask(series).ravel(), minlength=len(classes))\n",
    "        dist = np.roll(dist / dist.sum(), -1) # empty to Others\n",
    "\n",
    "        df_ai.loc[loc, i, len(series) + 1] = dist\n",
    "\n",
    "df_ai = df_ai.sort_index()"
   ]
  },
  {
   "cell_type": "code",
   "execution_count": null,
   "metadata": {},
   "outputs": [],
   "source": [
    "df_hu.to_parquet(os.path.join(CROPPED_DIR, \"../human_time_series_c.parquet\"))\n",
    "df_ai.to_parquet(os.path.join(CROPPED_DIR, \"../ai_time_series_c.parquet\"))"
   ]
  },
  {
   "cell_type": "markdown",
   "metadata": {},
   "source": [
    "Figure 4: Comparison of manual and automated analysis"
   ]
  },
  {
   "cell_type": "code",
   "execution_count": null,
   "metadata": {},
   "outputs": [],
   "source": [
    "fig, axes = plt.subplots(2, 5, figsize=(10, 4))\n",
    "\n",
    "width = 0.3\n",
    "months = 3\n",
    "inds = np.arange(1, months + 1)\n",
    "colors = np.asarray(palette).reshape((-1, 3)) / 255\n",
    "loc_map = {\"Anchorage\": \"Melbourne\", \"Port\": \"Port Canaveral\"}\n",
    "\n",
    "for i, ax in enumerate(axes.ravel()):\n",
    "    loc = \"Anchorage\" if i < 5 else \"Port\"\n",
    "\n",
    "    for df, w in ((df_ai, -width), (df_hu, width)):\n",
    "        cover_prev = 0\n",
    "        for c in list(classes.keys()):\n",
    "            cover = df.loc[loc, i % 5 + 1][c] * 100\n",
    "            color = colors[classes[c]]\n",
    "            ax.bar(inds + w / 1.7, cover[:months], width, bottom=0 if np.sum(cover_prev) == 0\n",
    "                else cover_prev[:months], color=color, label=c)\n",
    "            if df is not df_hu:\n",
    "                ax.bar(months + 1, cover[months + 1], width, bottom=0 if np.sum(cover_prev) == 0\n",
    "                    else cover_prev[months + 1], color=color, label=c)\n",
    "            \n",
    "            cover_prev += cover\n",
    "\n",
    "    ax.set_xticks((1, 2, 3, 4))\n",
    "    ax.set_xticklabels((1, 2, 3, \"$\\\\alpha$\"))\n",
    "\n",
    "    ax.set_ylim((0, 100))\n",
    "\n",
    "    if i < axes.shape[1]:\n",
    "        ax.set_title(f\"Panel {i+1}\", pad=10)\n",
    "\n",
    "    if i >= axes.shape[1]:\n",
    "        ax.set_xlabel(\"Months\")\n",
    "    \n",
    "    if not i % 5:\n",
    "        ax.set_ylabel(\"Coverage [%]\")\n",
    "        ax.annotate(f\"{loc_map[loc]} Site\", xy=(0, 0.5), xytext=(-ax.yaxis.labelpad - 5, 0),\n",
    "                xycoords=ax.yaxis.label, textcoords='offset points',\n",
    "                size='large', ha='right', va='center', rotation=90)\n",
    "\n",
    "handles, labels = ax.get_legend_handles_labels()\n",
    "by_label = dict(zip(labels, handles))\n",
    "fig.legend(by_label.values(), by_label.keys(), loc=\"lower center\", ncol=6,\n",
    "    bbox_to_anchor=(0.5, -0.16), frameon=False)\n",
    "\n",
    "fig.tight_layout()\n",
    "\n",
    "plt.annotate(\"Bars: $\\it{left}$ U-Net, $\\it{right}$ human\", \n",
    "    (0.014, 0.15), xycoords=\"figure fraction\")\n",
    "\n",
    "plt.savefig(\"results/figures/time series.svg\", bbox_inches='tight')"
   ]
  },
  {
   "cell_type": "markdown",
   "metadata": {},
   "source": [
    "Figure 5a: Determination of macrofoulers in direct coating contact from image time series during fouling progression"
   ]
  },
  {
   "cell_type": "code",
   "execution_count": null,
   "metadata": {},
   "outputs": [],
   "source": [
    "panels = [Image.open(p) for p in image_paths if \"Port_2\" in p]\n",
    "\n",
    "# Calculate direct attachement and its distribution\n",
    "series = [Image.open(p) for p in label_paths if \"Port_2\" in p]\n",
    "occupation = occupation_mask([np.asarray(p) for p in series])\n",
    "series.append(indexed_from_arr(occupation, palette))\n",
    "\n",
    "dist = np.bincount(occupation.ravel(), minlength=len(classes))\n",
    "dist = np.roll(dist / dist.sum() * 100, -1)\n",
    "df_ai.loc[\"Port\", 2, 4] = dist\n",
    "\n",
    "# Create image\n",
    "fig, axes = plt.subplots(4, 4, figsize=(9, 9), \n",
    "    gridspec_kw={'height_ratios': [4.5, 4.5, 5, 5], \"hspace\": 0.05, \"wspace\": 0.1})\n",
    "\n",
    "height = 0.2\n",
    "colors = np.asarray(palette).reshape((-1, 3)) / 255\n",
    "rect_size = (1020, 810, 320, 320) # x, y, side lengths\n",
    "rect = lambda: Rectangle(rect_size[:2], *rect_size[2:], linewidth=1.5, \n",
    "    edgecolor='y', facecolor='none', alpha=1)\n",
    "\n",
    "# Transform rect to PIL coords\n",
    "box = np.asarray(rect_size)\n",
    "box = np.concatenate((box[:2], box[:2] + box[2:]))\n",
    "\n",
    "for i, ((ax1, ax2, ax3, ax4), im) in enumerate(zip(axes.T, series), 1):\n",
    "    if i < len(series):\n",
    "        panel_im = panels[i-1].resize(im.size, resample=Image.LANCZOS)\n",
    "        ax1.imshow(panel_im)\n",
    "        ax1.add_patch(rect())\n",
    "        ax3.imshow(panel_im.crop(box))\n",
    "    ax2.imshow(im)\n",
    "    ax2.add_patch(rect())\n",
    "    ax4.imshow(im.crop(box))\n",
    "\n",
    "    ax4.set_title(f\"Month {i}\" if i != len(series) else \"Direct Attachment\", \n",
    "        y=-0.2)\n",
    "\n",
    "    if i == 1:\n",
    "        ax1.set_yticks([])\n",
    "        ax1.xaxis.set_visible(False)\n",
    "        for s in ax1.spines.values(): s.set_visible(False)\n",
    "        ax1.set_ylabel(\"Panel image\", size=\"large\", labelpad=10)\n",
    "\n",
    "        ax2.set_yticks([])\n",
    "        ax2.xaxis.set_visible(False)\n",
    "        for s in ax2.spines.values(): s.set_visible(False)\n",
    "        ax2.set_ylabel(\"Segmentation\", size=\"large\", labelpad=10)\n",
    "\n",
    "        ax3.set_yticks([])\n",
    "        ax3.xaxis.set_visible(False)\n",
    "        for s in ax3.spines.values(): s.set_visible(False)\n",
    "        ax3.set_ylabel(\"Panel image\\nclose-up\", size=\"large\", labelpad=10)\n",
    "\n",
    "        ax4.set_yticks([])\n",
    "        ax4.xaxis.set_visible(False)\n",
    "        for s in ax4.spines.values(): s.set_visible(False)\n",
    "        ax4.set_ylabel(\"Segmentation\\nclose-up\", size=\"large\", labelpad=10)\n",
    "    else:\n",
    "        ax1.set_axis_off()\n",
    "        ax2.set_axis_off()\n",
    "        ax3.set_axis_off()\n",
    "        ax4.set_axis_off()\n",
    "\n",
    "fig.tight_layout(pad=0)\n",
    "fig.savefig(\"results/figures/attachement series.svg\", dpi=150, bbox_inches='tight')"
   ]
  },
  {
   "cell_type": "markdown",
   "metadata": {},
   "source": [
    "Figure 5b: Determination of macrofoulers in direct coating contact from image time series during fouling progression"
   ]
  },
  {
   "cell_type": "code",
   "execution_count": null,
   "metadata": {},
   "outputs": [],
   "source": [
    "def succession_model(series):\n",
    "    series = np.asarray(series)\n",
    "    assert series.ndim == 3\n",
    "\n",
    "    # Layer model\n",
    "    layers = np.zeros_like(series)\n",
    "    layers[0] = series[0]\n",
    "\n",
    "    # Pointer for current top values\n",
    "    top = np.zeros_like(layers[0])\n",
    "    i, j = np.indices(top.shape) # for fancy indexing\n",
    "    \n",
    "    # Collapse series to layers\n",
    "    for t in range(1, len(series)):\n",
    "        changed = series[t] != series[top, i, j]\n",
    "\n",
    "        # Advance top pointer and update layer model\n",
    "        top[changed] += 1\n",
    "        layers[top[changed], i[changed], j[changed]] = series[t, changed]\n",
    "\n",
    "    return layers"
   ]
  },
  {
   "cell_type": "code",
   "execution_count": null,
   "metadata": {},
   "outputs": [],
   "source": [
    "series = [np.asarray(Image.open(p)) for p in label_paths if \"Port_2\" in p]\n",
    "series = np.stack(series)\n",
    "smodel = succession_model(series)\n",
    "smodel.shape"
   ]
  },
  {
   "cell_type": "code",
   "execution_count": null,
   "metadata": {},
   "outputs": [],
   "source": [
    "layers, counts = np.unique(series.reshape((3, -1)).T, axis=0, return_counts=True)\n",
    "\n",
    "fig, ax = plt.subplots()\n",
    "size = 0.5\n",
    "\n",
    "for phase in range(2): # Correct removal of minorites\n",
    "    for idx in range(1, len(series) + 1):\n",
    "        foulers = np.unique(layers[:,:idx], axis=0)\n",
    "        vals = np.asarray([counts[np.all(layers[:,:idx] == f, axis=-1)].sum() for f in foulers])\n",
    "        vals = vals / vals.sum()\n",
    "\n",
    "        # Remove minorities\n",
    "        minor = vals < 0.01\n",
    "\n",
    "        mask = ~(layers[:,:idx] == foulers[minor, None]).all(-1).any(0)\n",
    "        layers = layers[mask]\n",
    "        counts = counts[mask]\n",
    "\n",
    "        vals = vals[~minor] #/ vals[~minor].sum()\n",
    "        foulers = foulers[~minor]\n",
    "\n",
    "        # Draw\n",
    "        if phase:\n",
    "            r = 2 - (len(series) - idx) * size\n",
    "            pie = ax.pie(vals, radius=r, colors=colors[foulers[:,-1]], \n",
    "                normalize=False, autopct=\"%.0f\", pctdistance=0.71 + (idx-1) * 0.09,\n",
    "                textprops={\"color\":\"white\", \"size\":\"large\", \"weight\": \"bold\"},\n",
    "                wedgeprops=dict(width=size, edgecolor='w', linewidth=1.5))\n",
    "\n",
    "fig.savefig(\"results/figures/succession model.svg\", dpi=150, bbox_inches='tight')"
   ]
  },
  {
   "cell_type": "markdown",
   "metadata": {},
   "source": [
    "Figure 5c: Determination of macrofoulers in direct coating contact from image time series during fouling progression"
   ]
  },
  {
   "cell_type": "code",
   "execution_count": null,
   "metadata": {},
   "outputs": [],
   "source": [
    "names, counts = np.unique(occupation, return_counts=True)\n",
    "counts = counts / counts.sum()\n",
    "\n",
    "names = names[counts >= 0.01]\n",
    "counts = counts[counts >= 0.01]\n",
    "\n",
    "names = [next(k for k,v in classes.items() if v==n) for n in names]\n",
    "dict(zip(names, counts.round(2)))"
   ]
  },
  {
   "cell_type": "code",
   "execution_count": null,
   "metadata": {},
   "outputs": [],
   "source": [
    "series = [np.asarray(Image.open(p).crop(box)) for p in label_paths if \"Port_2\" in p]\n",
    "series = np.stack(series)\n",
    "smodel = succession_model(series)\n",
    "smodel.shape"
   ]
  },
  {
   "cell_type": "code",
   "execution_count": null,
   "metadata": {},
   "outputs": [],
   "source": [
    "fig = plt.figure(figsize=(8,8))\n",
    "ax = plt.axes(projection='3d')\n",
    "ax.view_init(elev=25)\n",
    "\n",
    "colors = np.asarray(palette).reshape((-1, 3)) / 255\n",
    "levels = np.arange(len(colors) + 1) - .5\n",
    "\n",
    "X = np.arange(smodel.shape[1])\n",
    "Y = np.arange(smodel.shape[2])\n",
    "X, Y = np.meshgrid(X, Y)\n",
    "\n",
    "kwargs = {\"zdir\":'z', \"colors\":colors, \"antialiased\":True, \"levels\":levels}\n",
    "\n",
    "ax.contourf(X, Y, np.ma.masked_equal(series[0], 0).T, offset=0, **kwargs)\n",
    "ax.contourf(X, Y, np.ma.masked_equal(smodel[1], 0).T, offset=1, **kwargs)\n",
    "ax.contourf(X, Y, np.ma.masked_equal(smodel[2], 0).T, offset=2, **kwargs)\n",
    "\n",
    "ax.set_zlim3d(0, 2)\n",
    "ax.set_xticks([])\n",
    "ax.set_yticks([])\n",
    "ax.set_zticks([0, 1, 2])\n",
    "ax.set_zticklabels([])\n",
    "\n",
    "fig.savefig(\"results/figures/layer model.svg\", dpi=150, bbox_inches='tight')"
   ]
  }
 ],
 "metadata": {
  "kernelspec": {
   "display_name": "Python 3.9.13 ('macro-seg')",
   "language": "python",
   "name": "python3"
  },
  "language_info": {
   "codemirror_mode": {
    "name": "ipython",
    "version": 3
   },
   "file_extension": ".py",
   "mimetype": "text/x-python",
   "name": "python",
   "nbconvert_exporter": "python",
   "pygments_lexer": "ipython3",
   "version": "3.9.13"
  },
  "orig_nbformat": 4,
  "vscode": {
   "interpreter": {
    "hash": "ea6088b8ba639ccd22ec3b52c4cd34308311464f29cddce51c26edd24c764ddb"
   }
  }
 },
 "nbformat": 4,
 "nbformat_minor": 2
}
