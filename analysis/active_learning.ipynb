{
 "cells": [
  {
   "cell_type": "code",
   "execution_count": null,
   "metadata": {},
   "outputs": [],
   "source": [
    "import os\n",
    "\n",
    "import matplotlib.pyplot as plt\n",
    "import numpy as np\n",
    "from PIL import Image\n",
    "from scipy.ndimage import grey_opening\n",
    "from sklearn.metrics.pairwise import cosine_distances\n",
    "from tqdm import tqdm\n",
    "\n",
    "os.chdir(\"..\")\n",
    "\n",
    "from dataset import image_label_paths_from_dir\n",
    "from predict import predict_embeddings, predict_images\n",
    "from split_generate import calculate_probabilities\n",
    "from training import allow_gpu_memory_growth\n",
    "from utils import indexed_from_arr, load_colormap\n",
    "\n",
    "allow_gpu_memory_growth()\n"
   ]
  },
  {
   "cell_type": "code",
   "execution_count": null,
   "metadata": {},
   "outputs": [],
   "source": [
    "MODEL_PATH = \"results/models/4_final_balanced_efficientnet_unet/model.h5\"\n",
    "DATA_DIRS = [\"data/training\", \"data/validation\", \"data/pool\"]\n",
    "RESULTS_DIR = \"results\"\n",
    "LOAD_EMBEDDING = True"
   ]
  },
  {
   "cell_type": "code",
   "execution_count": null,
   "metadata": {},
   "outputs": [],
   "source": [
    "# Collect image paths\n",
    "image_paths, label_paths, labeled = image_label_paths_from_dir(DATA_DIRS, filter_unlabeled=False)\n",
    "\n",
    "# Filter out oversampled images\n",
    "mask = np.asarray([\"_over_\" not in p for p in label_paths])\n",
    "image_paths, label_paths, labeled = image_paths[mask], label_paths[mask], labeled[mask]\n",
    "\n",
    "print(len(image_paths), \"images found\")\n",
    "print(np.count_nonzero(labeled), \"labeled images\")"
   ]
  },
  {
   "cell_type": "code",
   "execution_count": null,
   "metadata": {},
   "outputs": [],
   "source": [
    "if LOAD_EMBEDDING:\n",
    "    X_pca  = np.load(os.path.join(RESULTS_DIR, \"embeddings_pca.npy\"))\n",
    "    X_tsne = np.load(os.path.join(RESULTS_DIR, \"embeddings_tsne.npy\"))\n",
    "else:\n",
    "    X_pca, X_tsne = predict_embeddings(MODEL_PATH, image_paths)\n",
    "\n",
    "    np.save(os.path.join(RESULTS_DIR, \"embeddings_pca.npy\"), X_pca)\n",
    "    np.save(os.path.join(RESULTS_DIR, \"embeddings_tsne.npy\"), X_tsne)\n",
    "\n",
    "# Calculate uncertainty for all patches\n",
    "entropies = [x[2].mean(axis=(-1, -2)) for x in tqdm(\n",
    "    predict_images(MODEL_PATH, image_paths), total=len(image_paths) // 128)]\n",
    "entropies = np.hstack(entropies)"
   ]
  },
  {
   "cell_type": "markdown",
   "metadata": {},
   "source": [
    "Active Learning: Select uncertain and representative images for human annotation"
   ]
  },
  {
   "cell_type": "code",
   "execution_count": null,
   "metadata": {},
   "outputs": [],
   "source": [
    "def plot_embedding(selected, uncertainty=False):\n",
    "    if uncertainty:\n",
    "        fig, ax = plt.subplots(figsize=(10, 6))\n",
    "        vis_kwargs = {\"cmap\": \"inferno\", \"vmin\": 0, \"vmax\": entropies.max().round(1)}\n",
    "\n",
    "        sc = ax.scatter(X_tsne[:, 0], X_tsne[:, 1],\n",
    "            c=entropies, s=3, **vis_kwargs,\n",
    "            label=\"All\")\n",
    "        ax.scatter(X_tsne[selected, 0], X_tsne[selected, 1],\n",
    "            edgecolor=\"green\", s=24, facecolor=\"None\", **vis_kwargs,\n",
    "            label=\"Annotate by human\")\n",
    "        fig.colorbar(sc)\n",
    "    else:\n",
    "        fig, ax = plt.subplots(figsize=(8, 6))\n",
    "        ax.scatter(X_tsne[~labeled,0], X_tsne[~labeled,1], s=3, label=\"unlabeled\")\n",
    "        ax.scatter(X_tsne[labeled,0], X_tsne[labeled,1], s=3, label=\"labeled\")\n",
    "        ax.scatter(X_tsne[selected,0], X_tsne[selected,1], s=12, label=\"selected for AL\", c=\"red\")\n",
    "        ax.legend()\n",
    "\n",
    "    ax.set_xlabel(\"1st component\")\n",
    "    ax.set_ylabel(\"2nd component\")"
   ]
  },
  {
   "cell_type": "code",
   "execution_count": null,
   "metadata": {
    "tags": []
   },
   "outputs": [],
   "source": [
    "K = 64\n",
    "k = 16\n",
    "\n",
    "# Select by uncertainty\n",
    "selected = np.argsort(entropies)[::-1]\n",
    "selected = selected[~np.isin(selected, np.where(labeled)[0])] # select only unlabeled\n",
    "selected = selected[:K]\n",
    "plot_embedding(selected, uncertainty=True)"
   ]
  },
  {
   "cell_type": "code",
   "execution_count": null,
   "metadata": {},
   "outputs": [],
   "source": [
    "# Maximize diversity (greedy) & representativity \n",
    "# -> argmax intra-selected distance & argmin inter-unlabeled distance\n",
    "\n",
    "# Distance between selected samples and its 16 unlabeled nearest neighbours\n",
    "dists_inter = cosine_distances(X_pca[selected], X_pca[~labeled])\n",
    "dists_inter = np.sort(dists_inter, axis=-1)[:,:16]\n",
    "dists_inter = np.mean(dists_inter, axis=1)\n",
    "\n",
    "while len(selected) > k:\n",
    "    # Distances to nearest other selected sample\n",
    "    dists_intra = cosine_distances(X_pca[selected], X_pca[selected]) # pairwise\n",
    "    dists_intra = np.sort(dists_intra, axis=-1)[:,1]\n",
    "\n",
    "    score = dists_intra / (dists_inter + 1e-7)\n",
    "\n",
    "    # Delete sample with worst score\n",
    "    worst = np.argmin(score)\n",
    "    dists_inter = np.delete(dists_inter, worst, axis=0)\n",
    "    selected    = np.delete(selected, worst, axis=0)\n",
    "\n",
    "plot_embedding(selected, uncertainty=True)\n",
    "plt.savefig(os.path.join(os.path.dirname(MODEL_PATH), \"al_embeddings.png\"), bbox_inches=\"tight\")\n",
    "plot_embedding(selected, uncertainty=False)"
   ]
  },
  {
   "cell_type": "code",
   "execution_count": null,
   "metadata": {},
   "outputs": [],
   "source": [
    "def plot_uncertainty_masks(image_paths):\n",
    "    # Inference\n",
    "    preds = predict_images(MODEL_PATH, image_paths, batch_size=len(image_paths))\n",
    "    images, _, entropies, masks, _ = next(iter(preds))\n",
    "\n",
    "    # Visualization\n",
    "    rows = int(np.ceil(len(image_paths)/2))\n",
    "    fig, axes = plt.subplots(rows, 6, figsize=(10, 1.6 * rows))\n",
    "\n",
    "    palette = load_colormap()[1]\n",
    "    for ax, im, emap, mask in zip(axes.reshape(-1, 3), images, entropies, masks):\n",
    "        ax[0].imshow(im.astype(np.uint8))\n",
    "        sm = ax[1].imshow(emap, vmin=0, vmax=1, cmap=\"inferno\")\n",
    "        ax[2].imshow(indexed_from_arr(mask, palette))\n",
    "\n",
    "        ax[0].set_axis_off()\n",
    "        ax[1].set_axis_off()\n",
    "        ax[2].set_axis_off()\n",
    "\n",
    "    # Global colorbar\n",
    "    fig.tight_layout()\n",
    "    fig.subplots_adjust(right=0.95)\n",
    "    fig.colorbar(sm, cax=fig.add_axes([0.98, 0.05, 0.02, 0.9])) # right, bottom, width, top\n",
    "\n",
    "plot_uncertainty_masks(image_paths[selected])\n",
    "# plt.savefig(os.path.join(os.path.dirname(MODEL_PATH), \"al_samples.png\"), bbox_inches=\"tight\")"
   ]
  },
  {
   "cell_type": "markdown",
   "metadata": {},
   "source": [
    "Suggest labels for human annotators"
   ]
  },
  {
   "cell_type": "code",
   "execution_count": null,
   "metadata": {},
   "outputs": [],
   "source": [
    "def suggested_masks(image_paths: list[str], \n",
    "                   threshold: float = 0.1):\n",
    "    # Inference\n",
    "    preds = predict_images(MODEL_PATH, image_paths, batch_size=len(image_paths))\n",
    "    images, _, entropies, masks, _ = next(iter(preds))\n",
    "\n",
    "    # Truncate prediction based on uncertainty\n",
    "    masks = masks.astype(np.uint8)\n",
    "    masks[entropies > threshold] = 0\n",
    "\n",
    "    palette = load_colormap()[1]\n",
    "\n",
    "    suggested_masks = []\n",
    "    for mask in masks:\n",
    "        mask = grey_opening(mask, size=(5, 5))\n",
    "        mask = indexed_from_arr(mask, palette)\n",
    "        suggested_masks.append(mask)\n",
    "\n",
    "    return suggested_masks\n",
    "\n",
    "suggested_masks = suggested_masks(image_paths[selected])\n",
    "\n",
    "fig, axes = plt.subplots(len(suggested_masks) // 4, 4, figsize=(8, len(suggested_masks) // 2))\n",
    "for ax, mask in zip(axes.ravel(), suggested_masks):\n",
    "    ax.imshow(mask)\n",
    "    ax.set_axis_off()\n",
    "fig.tight_layout()"
   ]
  },
  {
   "cell_type": "code",
   "execution_count": null,
   "metadata": {},
   "outputs": [],
   "source": [
    "# Upload these to your labeling tool\n",
    "suggested_masks\n",
    "image_paths[selected]"
   ]
  }
 ],
 "metadata": {
  "kernelspec": {
   "display_name": "Python 3.9.6 ('tf-seg3')",
   "language": "python",
   "name": "python3"
  },
  "language_info": {
   "codemirror_mode": {
    "name": "ipython",
    "version": 3
   },
   "file_extension": ".py",
   "mimetype": "text/x-python",
   "name": "python",
   "nbconvert_exporter": "python",
   "pygments_lexer": "ipython3",
   "version": "3.9.6"
  },
  "orig_nbformat": 2,
  "vscode": {
   "interpreter": {
    "hash": "ffd770f6f803eb58a8e8146398d25adbae8ffc77d6b4a7ada55d2bf2bbae9e2a"
   }
  }
 },
 "nbformat": 4,
 "nbformat_minor": 2
}
