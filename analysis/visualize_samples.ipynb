{
 "cells": [
  {
   "cell_type": "code",
   "execution_count": null,
   "metadata": {},
   "outputs": [],
   "source": [
    "import os\n",
    "from glob import glob\n",
    "\n",
    "import matplotlib.pyplot as plt\n",
    "import numpy as np\n",
    "import pandas as pd\n",
    "from PIL import Image\n",
    "\n",
    "os.chdir(\"..\")\n",
    "\n",
    "from dataset import image_label_paths_from_dir"
   ]
  },
  {
   "cell_type": "markdown",
   "metadata": {},
   "source": [
    "Supplementary Figure 2: Semantic segmentation of images tiles"
   ]
  },
  {
   "cell_type": "code",
   "execution_count": null,
   "metadata": {},
   "outputs": [],
   "source": [
    "VALIDATION_DIR = \"data/validation\"\n",
    "PREDICTION_DIR = \"results/prediction\"\n",
    "\n",
    "# Collect paths\n",
    "image_paths, label_paths = image_label_paths_from_dir(VALIDATION_DIR)\n",
    "image_paths, label_paths = np.asarray(image_paths), np.asarray(label_paths)\n",
    "\n",
    "os.path.isdir(PREDICTION_DIR)\n",
    "pred_paths = []\n",
    "for label_path in label_paths:\n",
    "    root, ext = os.path.splitext(os.path.basename(label_path))\n",
    "    pred_paths.append(os.path.join(PREDICTION_DIR, f\"{root}_pred{ext}\"))\n",
    "pred_paths = np.asarray(pred_paths)\n",
    "assert all(os.path.isfile(p) for p in pred_paths)\n",
    "\n",
    "# Visualize some samples\n",
    "indices = np.random.choice(len(image_paths), 24, replace=False)\n",
    "fig, axes = plt.subplots(len(indices)//3, 9, figsize=(10, 9))\n",
    "\n",
    "for i, ((ax1, ax2, ax3), im, mask, pred) in enumerate(zip(axes.reshape((-1, 3)), \n",
    "    image_paths[indices], label_paths[indices], pred_paths[indices])):\n",
    "\n",
    "    ax1.imshow(Image.open(im))\n",
    "    ax1.set_axis_off()\n",
    "    ax2.imshow(Image.open(mask))\n",
    "    ax2.set_axis_off()\n",
    "    ax3.imshow(Image.open(pred))\n",
    "    ax3.set_axis_off()\n",
    "\n",
    "    if i < axes.shape[1]//3:\n",
    "        ax1.set_title(\"Image Tile\")\n",
    "        ax2.set_title(\"Ground truth\")\n",
    "        ax3.set_title(\"Prediction\")\n",
    "\n",
    "fig.tight_layout(pad=0.2)\n",
    "fig.savefig(\"results/figures/image tiles.svg\", dpi=200)"
   ]
  }
 ],
 "metadata": {
  "kernelspec": {
   "display_name": "Python 3.9.6 ('tf-seg3')",
   "language": "python",
   "name": "python3"
  },
  "language_info": {
   "codemirror_mode": {
    "name": "ipython",
    "version": 3
   },
   "file_extension": ".py",
   "mimetype": "text/x-python",
   "name": "python",
   "nbconvert_exporter": "python",
   "pygments_lexer": "ipython3",
   "version": "3.9.6"
  },
  "orig_nbformat": 4,
  "vscode": {
   "interpreter": {
    "hash": "ffd770f6f803eb58a8e8146398d25adbae8ffc77d6b4a7ada55d2bf2bbae9e2a"
   }
  }
 },
 "nbformat": 4,
 "nbformat_minor": 2
}
