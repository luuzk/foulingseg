{
 "cells": [
  {
   "cell_type": "code",
   "execution_count": null,
   "metadata": {},
   "outputs": [],
   "source": [
    "import os\n",
    "import random\n",
    "from glob import glob\n",
    "\n",
    "import matplotlib.pyplot as plt\n",
    "import numpy as np\n",
    "from matplotlib.colors import LinearSegmentedColormap\n",
    "from PIL import Image\n",
    "from tqdm import tqdm\n",
    "\n",
    "os.chdir(\"..\")\n",
    "\n",
    "from dataset import image_label_paths_from_dir\n",
    "from predict import predict_embeddings, predict_images\n",
    "from split_generate import calculate_probabilities\n",
    "from training import allow_gpu_memory_growth\n",
    "from utils import load_colormap\n",
    "\n",
    "allow_gpu_memory_growth()\n"
   ]
  },
  {
   "cell_type": "code",
   "execution_count": null,
   "metadata": {},
   "outputs": [],
   "source": [
    "MODEL_PATH = \"results/models/4_final_balanced_efficientnet_unet/model.h5\"\n",
    "DATA_DIRS = [\"data/training\", \"data/validation\", \"data/pool\"]\n",
    "RESULTS_DIR = \"results\"\n",
    "LOAD_EMBEDDING = True"
   ]
  },
  {
   "cell_type": "code",
   "execution_count": null,
   "metadata": {},
   "outputs": [],
   "source": [
    "# Collect image paths\n",
    "image_paths, label_paths, labeled = image_label_paths_from_dir(DATA_DIRS, filter_unlabeled=False)\n",
    "\n",
    "# Filter out oversampled images\n",
    "mask = np.asarray([\"_over_\" not in p for p in label_paths])\n",
    "image_paths, label_paths, labeled = image_paths[mask], label_paths[mask], labeled[mask]\n",
    "\n",
    "print(len(image_paths), \"images found\")\n",
    "print(np.count_nonzero(labeled), \"labeled images\")"
   ]
  },
  {
   "cell_type": "code",
   "execution_count": null,
   "metadata": {},
   "outputs": [],
   "source": [
    "if LOAD_EMBEDDING:\n",
    "    X_pca  = np.load(os.path.join(RESULTS_DIR, \"embeddings_pca.npy\"))\n",
    "    X_tsne = np.load(os.path.join(RESULTS_DIR, \"embeddings_tsne.npy\"))\n",
    "else:\n",
    "    X_pca, X_tsne = predict_embeddings(MODEL_PATH, image_paths)\n",
    "\n",
    "    np.save(os.path.join(RESULTS_DIR, \"embeddings_pca.npy\"), X_pca)\n",
    "    np.save(os.path.join(RESULTS_DIR, \"embeddings_tsne.npy\"), X_tsne)\n",
    "\n",
    "# Calculate uncertainty for all patches\n",
    "entropies = [x[2].mean(axis=(-1, -2)) for x in tqdm(\n",
    "    predict_images(MODEL_PATH, image_paths), total=len(image_paths) // 128)]\n",
    "entropies = np.hstack(entropies)"
   ]
  },
  {
   "cell_type": "markdown",
   "metadata": {},
   "source": [
    "Figure 2a: Visualization of the semantic latent space"
   ]
  },
  {
   "cell_type": "code",
   "execution_count": null,
   "metadata": {},
   "outputs": [],
   "source": [
    "def truncate_colormap(cmap_name, minval=0.0, maxval=1.0, n=100):\n",
    "    cmap = plt.get_cmap(cmap_name)\n",
    "    new_cmap = LinearSegmentedColormap.from_list(\n",
    "        f'trunc({cmap.name},{minval:.2f},{maxval:.2f})',\n",
    "        cmap(np.linspace(minval, maxval, n)))\n",
    "    return new_cmap\n",
    "\n",
    "# Interactive plot for cluster analysis\n",
    "def on_pick(event):\n",
    "    # Transform index\n",
    "    ind = event.ind[0]\n",
    "    query = ~labeled if event.artist == scu else labeled\n",
    "    idx = np.where(query)[0][ind]\n",
    "\n",
    "    im = Image.open(image_paths[idx])\n",
    "    im.save(f\"results/figures/examples/{os.path.basename(image_paths[idx])}.png\")\n",
    "    im.show()\n",
    "\n",
    "fig, ax = plt.subplots(figsize=(10, 6))\n",
    "vis_kwargs = {\"vmin\":0, \"vmax\":0.5}\n",
    "\n",
    "scu = ax.scatter(X_tsne[~labeled,0], X_tsne[~labeled,1],\n",
    "    c=entropies[~labeled], s=10, edgecolor=\"none\", **vis_kwargs,\n",
    "    label=\"Unlabeled\", picker=3, cmap=truncate_colormap(\"Blues_r\", 0, 0.8))\n",
    "scl = ax.scatter(X_tsne[labeled,0], X_tsne[labeled,1],\n",
    "    c=entropies[labeled], s=10, edgecolor=\"none\", **vis_kwargs,\n",
    "    label=\"Labeled\", picker=3, cmap=truncate_colormap(\"Greens_r\", 0, 0.8))\n",
    "\n",
    "ax.set_xlabel(\"1st component\")\n",
    "ax.set_ylabel(\"2nd component\")\n",
    "ax.set_ylim((-110, 110))\n",
    "ax.set_xlim((-105, 110))\n",
    "fig.colorbar(scl, pad=-0.1).set_label(\"Mean Image Uncertainty\", labelpad=15)\n",
    "fig.colorbar(scu, pad=0.03, ticks=[])\n",
    "ax.legend(markerscale=2., frameon=False)\n",
    "\n",
    "# Interactive for sample picking\n",
    "# fig.canvas.mpl_connect('pick_event', on_pick)\n",
    "# plt.show()\n",
    "\n",
    "fig.tight_layout()\n",
    "fig.savefig(\"results/figures/latent space.svg\", bbox_inches=\"tight\")"
   ]
  },
  {
   "cell_type": "markdown",
   "metadata": {},
   "source": [
    "Figure 2b: Visualization of the semantic latent space"
   ]
  },
  {
   "cell_type": "code",
   "execution_count": null,
   "metadata": {},
   "outputs": [],
   "source": [
    "# Visualize picked examples\n",
    "clusters = {\n",
    "    \"a\":\"Bare\",\n",
    "    \"b\":\"Bare & slime\",\n",
    "    \"c\":\"Slime\",\n",
    "    \"d\":\"Encrusting bry. & barnacles\",\n",
    "    \"e\":\"Tubeworms & encrusting bry.\",\n",
    "    \"f\":\"Big individual tubeworms\",\n",
    "    \"g\":\"Dense tubeworms\",\n",
    "    \"h\":\"Tubeworms & arborescent bry.\",\n",
    "    \"i\":\"Dense barnacles\",\n",
    "    \"j\":\"Sponges & colonial tunicates\",\n",
    "    \"k\":\"Small tubeworms\",\n",
    "    \"l\":\"Mixed species with slime\",\n",
    "}\n",
    "\n",
    "fig, axes = plt.subplots(4, 3 * len(clusters) // 4, figsize=(10, 5.5),\n",
    "    gridspec_kw=dict(wspace=0.05, hspace=0.2))\n",
    "\n",
    "for axs, c in zip(axes.reshape((-1, 3)), clusters.keys()):\n",
    "    imgs = glob(f\"results/figures/clusters/{c}/*.png\")\n",
    "    random.shuffle(imgs)\n",
    "    for ax, im in zip(axs, imgs):\n",
    "        im = Image.open(im)\n",
    "        ax.imshow(im)\n",
    "        ax.set_axis_off()\n",
    "    axs[0].set_title(f\"({c.upper()}) {clusters[c]}\", loc=\"left\", size=\"medium\")\n",
    "\n",
    "fig.savefig(\"results/figures/latent space examples.svg\", bbox_inches=\"tight\", dpi=150)"
   ]
  },
  {
   "cell_type": "markdown",
   "metadata": {},
   "source": [
    "Supplementary Figure 4: Ordering of the macrofouling classes in latent space"
   ]
  },
  {
   "cell_type": "code",
   "execution_count": null,
   "metadata": {},
   "outputs": [],
   "source": [
    "# Calculate order of classes by area in an image\n",
    "classes, palette = load_colormap()\n",
    "classes.pop(\"empty\")\n",
    "colors = np.asarray(palette).reshape((-1, 3)) / 255\n",
    "\n",
    "majors = calculate_probabilities(list(label_paths[labeled]), len(classes) + 1, \n",
    "    average=False)\n",
    "majors[:,0] += 1e-6\n",
    "majors = majors.argsort(axis=-1)[:,::-1]\n",
    "\n",
    "fig, (ax1, ax2) = plt.subplots(1, 2, figsize=(10, 3))\n",
    "\n",
    "for name, c_idx in classes.items():\n",
    "    mask = majors[:,0] == c_idx\n",
    "    ax1.scatter(X_tsne[labeled][mask,0], X_tsne[labeled][mask,1],\n",
    "        color=colors[c_idx], s=12, edgecolor=\"none\", label=name)\n",
    "    mask = majors[:,1] == c_idx\n",
    "    ax2.scatter(X_tsne[labeled][mask,0], X_tsne[labeled][mask,1],\n",
    "        color=colors[c_idx], s=12, edgecolor=\"none\", label=name)\n",
    "\n",
    "ax1.set_title(\"Largest class\")\n",
    "ax1.set_xlabel(\"1st component\")\n",
    "ax1.set_ylabel(\"2nd component\")\n",
    "ax1.set_ylim((-110, 110))\n",
    "ax1.set_xlim((-105, 110))\n",
    "\n",
    "ax2.set_title(\"Second largest class\")\n",
    "ax2.set_xlabel(\"1st component\")\n",
    "ax2.set_ylim(ax1.get_ylim())\n",
    "ax2.set_xlim(ax1.get_xlim())\n",
    "\n",
    "handles, labels = ax1.get_legend_handles_labels()\n",
    "by_label = dict(zip(labels, handles))\n",
    "fig.legend(by_label.values(), by_label.keys(), loc=\"lower center\", ncol=5,\n",
    "    bbox_to_anchor=(0.5, -0.25), frameon=False, markerscale=2.)\n",
    "fig.savefig(\"results/figures/latent space largest classes.svg\", bbox_inches=\"tight\")"
   ]
  }
 ],
 "metadata": {
  "kernelspec": {
   "display_name": "Python 3.9.6 ('tf-seg3')",
   "language": "python",
   "name": "python3"
  },
  "language_info": {
   "codemirror_mode": {
    "name": "ipython",
    "version": 3
   },
   "file_extension": ".py",
   "mimetype": "text/x-python",
   "name": "python",
   "nbconvert_exporter": "python",
   "pygments_lexer": "ipython3",
   "version": "3.9.6"
  },
  "orig_nbformat": 2,
  "vscode": {
   "interpreter": {
    "hash": "ffd770f6f803eb58a8e8146398d25adbae8ffc77d6b4a7ada55d2bf2bbae9e2a"
   }
  }
 },
 "nbformat": 4,
 "nbformat_minor": 2
}
