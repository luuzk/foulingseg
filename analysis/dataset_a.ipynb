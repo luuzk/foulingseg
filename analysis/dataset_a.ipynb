{
 "cells": [
  {
   "cell_type": "code",
   "execution_count": null,
   "metadata": {},
   "outputs": [],
   "source": [
    "import os\n",
    "from glob import glob\n",
    "from math import ceil\n",
    "\n",
    "import matplotlib.pyplot as plt\n",
    "import numpy as np\n",
    "import pandas as pd\n",
    "from PIL import Image\n",
    "\n",
    "os.chdir(\"..\")\n",
    "\n",
    "from utils import indexed_from_arr, load_colormap"
   ]
  },
  {
   "cell_type": "code",
   "execution_count": null,
   "metadata": {},
   "outputs": [],
   "source": [
    "# Load data\n",
    "CROPPED_DIR = \"data/panels_a_cropped\"\n",
    "\n",
    "df_ai = pd.read_excel(os.path.join(CROPPED_DIR, \"../ai_coverage_a.xlsx\"))\n",
    "df_hu = pd.read_excel(os.path.join(CROPPED_DIR, \"../human_coverage_a.xlsx\"))\n",
    "\n",
    "image_paths = sorted(glob(os.path.join(CROPPED_DIR, \"*.jpg\")))\n",
    "label_paths = sorted(glob(os.path.join(CROPPED_DIR, \"*.png\")))\n",
    "assert len(image_paths) == len(label_paths)\n",
    "print(len(image_paths), \"images found\")"
   ]
  },
  {
   "cell_type": "code",
   "execution_count": null,
   "metadata": {},
   "outputs": [],
   "source": [
    "# Split name to info\n",
    "df_ai[[\"Coating\", \"Location\", \"Replicate\"]] = df_ai[\"Name\"].str.extract(\n",
    "    r\"([A-Z])(F|P)(..)\")\n",
    "\n",
    "# Clean up\n",
    "df_ai = df_ai.drop([\"Name\", \"Entropy\"], axis=1)\n",
    "df_ai[\"Others\"] = 0.\n",
    "df_ai = df_ai.set_index([\"Coating\", \"Location\", \"Replicate\", \"Date\"]).sort_index()\n",
    "df_ai.head()"
   ]
  },
  {
   "cell_type": "code",
   "execution_count": null,
   "metadata": {},
   "outputs": [],
   "source": [
    "# Split name to info\n",
    "df_hu[[\"Coating\", \"Location\", \"Replicate\", \"Date\"]] = df_hu[\"name\"].str.extract(\n",
    "    r\"([A-Z])(F|P)(..).([0-9]{1,2}.[0-9]{1,2}.[0-9]{2}).JPG\")\n",
    "df_hu[\"Date\"] = pd.to_datetime(df_hu[\"Date\"])\n",
    "\n",
    "# Clean up human data\n",
    "df_hu = df_hu.drop([\"name\"], axis=1)\n",
    "df_hu = df_hu.set_index([\"Coating\", \"Location\", \"Replicate\", \"Date\"]).sort_index()\n",
    "df_hu.head()"
   ]
  },
  {
   "cell_type": "code",
   "execution_count": null,
   "metadata": {},
   "outputs": [],
   "source": [
    "df_hu[df_hu.index.isin((\"2019-07-05\", \"2019-07-03\"), level=\"Date\")\n",
    "    ].groupby([\"Coating\", \"Date\"]).size()"
   ]
  },
  {
   "cell_type": "code",
   "execution_count": null,
   "metadata": {},
   "outputs": [],
   "source": [
    "# Remove losse date\n",
    "df_hu = df_hu[~df_hu.index.isin((\"2019-07-05\", \"2019-07-03\"), level=\"Date\")]\n",
    "df_ai = df_ai[~df_ai.index.isin((\"2019-07-05\", \"2019-07-03\"), level=\"Date\")]\n",
    "\n",
    "# Remove Coatings with less replicates\n",
    "df_hu = df_hu[~df_hu.index.isin((\"E\", \"Z\"), level=\"Coating\")]\n",
    "df_ai = df_ai[~df_ai.index.isin((\"E\", \"Z\"), level=\"Coating\")]\n",
    "\n",
    "df_hu.to_parquet(os.path.join(CROPPED_DIR, \"../human_time_series_a.parquet\"))\n",
    "df_ai.to_parquet(os.path.join(CROPPED_DIR, \"../ai_time_series_a.parquet\"))"
   ]
  },
  {
   "cell_type": "code",
   "execution_count": null,
   "metadata": {},
   "outputs": [],
   "source": [
    "classes, palette = load_colormap()\n",
    "classes[\"Others\"] = classes.pop(\"empty\")\n",
    "colors = np.asarray(palette).reshape((-1, 3)) / 255"
   ]
  },
  {
   "cell_type": "markdown",
   "metadata": {},
   "source": [
    "Figure 3a: Comparison of automated and manual analysis."
   ]
  },
  {
   "cell_type": "code",
   "execution_count": null,
   "metadata": {},
   "outputs": [],
   "source": [
    "name = \"PP2F\"\n",
    "img_paths = [p for p in image_paths if name in p and \"7.5.19\" not in p]\n",
    "lbl_paths = [p for p in label_paths if name in p and \"7.5.19\" not in p]\n",
    "\n",
    "fig, axes = plt.subplots(3, len(img_paths), figsize=(12, 6.5),\n",
    "    gridspec_kw={'height_ratios': [8, 8, 1], \"hspace\": 0.1, \"wspace\": 0.2})\n",
    "\n",
    "height = 0.2\n",
    "\n",
    "for i, ((ax1, ax2, ax3), img, lbl) in enumerate(zip(axes.T, img_paths, lbl_paths), 1):\n",
    "    img = Image.open(img)\n",
    "    lbl = Image.open(lbl)\n",
    "\n",
    "    ax1.set_title(f\"Month {i}\", size=\"large\")\n",
    "    ax1.imshow(img)\n",
    "\n",
    "    ax2.imshow(lbl)\n",
    "\n",
    "    for df, h in ((df_ai, height), (df_hu, -height)):\n",
    "        cover_prev = 0\n",
    "        for c in list(classes.keys()):\n",
    "            cover = df.loc[name[0], name[1], name[2:]].iloc[i-1][c] * 100\n",
    "            color = colors[classes[c]]\n",
    "            ax3.barh(h / 2, cover, height, left=cover_prev, \n",
    "                color=color, label=c)\n",
    "            cover_prev += cover\n",
    "\n",
    "    \n",
    "    ax3.set_xlim((0, 100))\n",
    "    ax3.set_ylim((-height, height))\n",
    "    ax3.set_xlabel(\"Coverage [%]\")\n",
    "\n",
    "    if i == 1:\n",
    "        ax1.set_yticks([])\n",
    "        ax1.xaxis.set_visible(False)\n",
    "        for s in ax1.spines.values(): s.set_visible(False)\n",
    "        ax1.set_ylabel(\"Panel image\", size=\"large\", labelpad=10)\n",
    "\n",
    "        ax2.set_yticks([])\n",
    "        ax2.xaxis.set_visible(False)\n",
    "        for s in ax2.spines.values(): s.set_visible(False)\n",
    "        ax2.set_ylabel(\"Segmentation\", size=\"large\", labelpad=10)\n",
    "\n",
    "        ax3.set_yticks((-height / 2, height / 2))\n",
    "        ax3.set_yticklabels([\"Human\", \"U-Net\"])\n",
    "    else:\n",
    "        ax1.set_axis_off()\n",
    "        ax2.set_axis_off()\n",
    "        ax3.set_yticks([])\n",
    "\n",
    "plt.savefig(\"results/figures/sample time series.svg\", bbox_inches=\"tight\", dpi=300)"
   ]
  },
  {
   "cell_type": "markdown",
   "metadata": {},
   "source": [
    "Figure 3b: Comparison of automated and manual analysis."
   ]
  },
  {
   "cell_type": "code",
   "execution_count": null,
   "metadata": {},
   "outputs": [],
   "source": [
    "coatings = df_ai.index.unique(level=\"Coating\")\n",
    "dates = df_ai.index.unique(level=\"Date\")\n",
    "\n",
    "fig, axes = plt.subplots(2, ceil(len(coatings)/2), figsize=(10, 5.25))\n",
    "\n",
    "width = 0.4\n",
    "inds = np.arange(1, len(dates) + 1)\n",
    "\n",
    "for i, (ax, coat) in enumerate(zip(axes.ravel(), coatings)):\n",
    "    for df, w in ((df_ai, -width), (df_hu, width)):\n",
    "        n = len(df.loc[coat].index.unique(level=\"Replicate\"))\n",
    "        cover_prev = 0\n",
    "        for c in list(classes.keys()):\n",
    "            cover = df.loc[coat][c].groupby(\"Date\")\n",
    "            yerr  = cover.std() / np.sqrt(n) * 100\n",
    "            cover = cover.mean() * 100\n",
    "            color = colors[classes[c]]\n",
    "            ax.bar(inds + w / 2, cover, width, bottom=cover_prev, \n",
    "                color=color, label=c, yerr=yerr, \n",
    "                error_kw={\"capsize\":0, \"elinewidth\":1})\n",
    "            \n",
    "            cover_prev += cover\n",
    "\n",
    "    ax.set_title(f\"Coating {coat}\", pad=10)\n",
    "    ax.set_xticks(inds)\n",
    "    \n",
    "    ax.set_ylim((0, 100))\n",
    "    if not i % axes.shape[1]:\n",
    "        ax.set_ylabel(\"Coverage [%]\")\n",
    "    if i >= axes.shape[1]:\n",
    "        ax.set_xlabel(\"Months\")\n",
    "\n",
    "handles, labels = ax.get_legend_handles_labels()\n",
    "by_label = dict(zip(labels, handles))\n",
    "fig.legend(by_label.values(), by_label.keys(), loc=\"lower center\", ncol=6,\n",
    "    bbox_to_anchor=(0.5, -0.12), frameon=False)\n",
    "\n",
    "fig.tight_layout()\n",
    "plt.annotate(\"Bars: $\\it{left}$ U-Net, $\\it{right}$ human\", \n",
    "    (0.014, 0.11), xycoords=\"figure fraction\")\n",
    "plt.savefig(\"results/figures/big time series.svg\", bbox_inches=\"tight\")"
   ]
  }
 ],
 "metadata": {
  "kernelspec": {
   "display_name": "Python 3.9.13 ('macro-seg')",
   "language": "python",
   "name": "python3"
  },
  "language_info": {
   "codemirror_mode": {
    "name": "ipython",
    "version": 3
   },
   "file_extension": ".py",
   "mimetype": "text/x-python",
   "name": "python",
   "nbconvert_exporter": "python",
   "pygments_lexer": "ipython3",
   "version": "3.9.13"
  },
  "orig_nbformat": 4,
  "vscode": {
   "interpreter": {
    "hash": "ea6088b8ba639ccd22ec3b52c4cd34308311464f29cddce51c26edd24c764ddb"
   }
  }
 },
 "nbformat": 4,
 "nbformat_minor": 2
}
