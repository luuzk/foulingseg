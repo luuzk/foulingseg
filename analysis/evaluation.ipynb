{
 "cells": [
  {
   "cell_type": "code",
   "execution_count": null,
   "metadata": {},
   "outputs": [],
   "source": [
    "import os\n",
    "\n",
    "import matplotlib.pyplot as plt\n",
    "import numpy as np\n",
    "\n",
    "os.chdir(\"..\")\n",
    "\n",
    "from utils import load_colormap, plot_confusion_matrix, cm_from_model"
   ]
  },
  {
   "cell_type": "code",
   "execution_count": null,
   "metadata": {},
   "outputs": [],
   "source": [
    "MODEL_PATH = \"results/models/4_final_balanced_efficientnet_unet/model.h5\"\n",
    "RESULTS_DIR = \"results\"\n",
    "\n",
    "cm = cm_from_model(MODEL_PATH)\n",
    "\n",
    "tp = np.diag(cm)\n",
    "fp = cm.sum(axis=0) - tp\n",
    "fn = cm.sum(axis=1) - tp\n",
    "tn = cm.sum() - (tp + fp + fn)\n",
    "\n",
    "accuracy    = (tp + tn) / (tp + tn + fp + fn)\n",
    "iou         = tp / (tp + fn + fp)\n",
    "f1          = 2 * tp / (2 * tp + fn + fp)\n",
    "precision   = tp / (tp + fp)\n",
    "recall      = tp / (tp + fn) # sensitivity"
   ]
  },
  {
   "cell_type": "markdown",
   "metadata": {},
   "source": [
    "Table 1: Performance of adapted U-Net model architecturs\n",
    "\n",
    "Supplementary Table 2: Segmentation performance of the enhanced U-Net"
   ]
  },
  {
   "cell_type": "code",
   "execution_count": null,
   "metadata": {},
   "outputs": [],
   "source": [
    "classes = list(load_colormap()[0].keys())[1:]\n",
    "\n",
    "print(f\"{'class':20s}  {'acc':5s}  {'iou':5s}  {'f1':5s}  {'prc':5s}  {'rec':5s}\")\n",
    "for i, c in enumerate(classes):\n",
    "    print(f\"{c:20s}  {accuracy[i]:.3f}  {iou[i]:.3f}  {f1[i]:.3f}  \"\n",
    "        f\"{precision[i]:.3f}  {recall[i]:.3f}\")\n",
    "print(f\"\\n{'MEAN':20s}  {accuracy.mean():.3f}  {iou.mean():.3f}  {f1.mean():.3f}  \"\n",
    "        f\"{precision.mean():.3f}  {recall.mean():.3f}\")\n",
    "print(f\"{'STD':20s}  {accuracy.std():.3f}  {iou.std():.3f}  {f1.std():.3f}  \"\n",
    "        f\"{precision.std():.3f}  {recall.std():.3f}\")"
   ]
  },
  {
   "cell_type": "markdown",
   "metadata": {},
   "source": [
    "Supplementary Figure 3: Confusion matrix of best performing model"
   ]
  },
  {
   "cell_type": "code",
   "execution_count": null,
   "metadata": {},
   "outputs": [],
   "source": [
    "plot_confusion_matrix(cm, classes)\n",
    "plt.savefig(os.path.join(RESULTS_DIR, \"figures/confusion_matrix.svg\"), bbox_inches=\"tight\")"
   ]
  }
 ],
 "metadata": {
  "kernelspec": {
   "display_name": "Python 3.9.6 ('tf-seg3')",
   "language": "python",
   "name": "python3"
  },
  "language_info": {
   "codemirror_mode": {
    "name": "ipython",
    "version": 3
   },
   "file_extension": ".py",
   "mimetype": "text/x-python",
   "name": "python",
   "nbconvert_exporter": "python",
   "pygments_lexer": "ipython3",
   "version": "3.9.6"
  },
  "orig_nbformat": 2,
  "vscode": {
   "interpreter": {
    "hash": "ffd770f6f803eb58a8e8146398d25adbae8ffc77d6b4a7ada55d2bf2bbae9e2a"
   }
  }
 },
 "nbformat": 4,
 "nbformat_minor": 2
}
